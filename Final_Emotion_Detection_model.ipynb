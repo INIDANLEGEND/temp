{
  "cells": [
    {
      "cell_type": "code",
      "execution_count": null,
      "metadata": {
        "colab": {
          "base_uri": "https://localhost:8080/",
          "height": 448
        },
        "id": "gYOZ1fI_Gxx9",
        "outputId": "c31b4d80-984d-4579-e7db-2f6cb992110b"
      },
      "outputs": [],
      "source": [
        "import numpy as np\n",
        "import pandas as pd\n",
        "\n",
        "import cv2\n",
        "import matplotlib.pyplot as plt\n",
        "\n",
        "# Correct the path to your image\n",
        "img_path = r'C:\\Users\\91966\\Desktop\\Emotion_Detection\\test\\disgust\\PrivateTest_3929526.jpg'\n",
        "\n",
        "# Read the image\n",
        "img = cv2.imread(img_path)\n",
        "img = plt.imread(img_path)\n",
        "plt.imshow(img, cmap='gray')"
      ]
    },
    {
      "cell_type": "code",
      "execution_count": null,
      "metadata": {
        "colab": {
          "base_uri": "https://localhost:8080/"
        },
        "id": "NZ19YyZwGxx9",
        "outputId": "98faeadc-b977-462b-b7bd-10e9cf0a1f1d"
      },
      "outputs": [],
      "source": [
        "import os\n",
        "\n",
        "# now to count the number of images in train dataset of each category and similarly in test dataset of each category\n",
        "train_dir='train'\n",
        "test_dir='test'\n",
        "\n",
        "def count_files_in_subdir(directory,index):\n",
        "    counts={}\n",
        "# now find all the subdirectories inside the above directory and count the number of images/files in each sub-directory\n",
        "\n",
        "    for sub in os.listdir(directory):\n",
        "        sub_dir_path=os.path.join(directory,sub)\n",
        "        if os.path.isdir(sub_dir_path):\n",
        "            counts[sub]=len(os.listdir(sub_dir_path))\n",
        "\n",
        "# we get the dictionary now we will convert this dictionary into a pandas dataframe\n",
        "\n",
        "    df=pd.DataFrame(counts,index=[index])\n",
        "    return df\n",
        "\n",
        "train_count = count_files_in_subdir(train_dir,'train')\n",
        "print(train_count)\n",
        "\n",
        "test_count = count_files_in_subdir(test_dir,'test')\n",
        "print(test_count)"
      ]
    },
    {
      "cell_type": "code",
      "execution_count": null,
      "metadata": {
        "colab": {
          "base_uri": "https://localhost:8080/",
          "height": 489
        },
        "id": "TIyMaMw9Gxx-",
        "outputId": "87977422-f3cd-44f4-b4b0-c3951e5d0053"
      },
      "outputs": [],
      "source": [
        "train_count.transpose().plot(kind='bar')"
      ]
    },
    {
      "cell_type": "code",
      "execution_count": null,
      "metadata": {
        "colab": {
          "base_uri": "https://localhost:8080/",
          "height": 489
        },
        "id": "_3KNHTqBGxx-",
        "outputId": "b8aaa620-6dea-45b4-a62e-a4adc44db60c"
      },
      "outputs": [],
      "source": [
        "test_count.transpose().plot(kind='bar')\n",
        "# we can see that we have class imbalance also so we should take care of it also"
      ]
    },
    {
      "cell_type": "code",
      "execution_count": null,
      "metadata": {
        "colab": {
          "base_uri": "https://localhost:8080/",
          "height": 538
        },
        "id": "fX9v1-9OGxx-",
        "outputId": "2dec3a59-97c5-49a8-f954-c9a0cb17fbbd"
      },
      "outputs": [],
      "source": [
        "# both train and test dataset have same distribution of points of each class\n",
        "\n",
        "emotions=os.listdir(train_dir)\n",
        "plt.figure(figsize=(25,20))\n",
        "\n",
        "for i,emotion in enumerate(emotions,1):\n",
        "    sub_dir=os.path.join(train_dir,emotion)\n",
        "    img_path=os.path.join(sub_dir,os.listdir(sub_dir)[3])\n",
        "    img=plt.imread(img_path)\n",
        "    plt.subplot(3,4,i)\n",
        "    plt.imshow(img,cmap='gray')\n",
        "    plt.title(emotion,fontsize=40)"
      ]
    },
    {
      "cell_type": "code",
      "execution_count": null,
      "metadata": {
        "id": "dGsnOBt9Gxx-"
      },
      "outputs": [],
      "source": [
        "img_width,img_height=48,48\n",
        "batch_size=64\n",
        "epochs=10\n",
        "num_classes=7"
      ]
    },
    {
      "cell_type": "code",
      "execution_count": null,
      "metadata": {
        "colab": {
          "base_uri": "https://localhost:8080/"
        },
        "id": "Hj9jtHOAGxx_",
        "outputId": "92fb8993-f9ce-4a19-bad5-b695824d9037"
      },
      "outputs": [],
      "source": [
        "import tensorflow as tf\n",
        "from tensorflow.keras.preprocessing.image import ImageDataGenerator\n",
        "\n",
        "# it will apply random transformation to every image(if rescale parameter is given that will be applied to all images)\n",
        "data_generator=ImageDataGenerator(rescale=1./255,\n",
        "                                 validation_split=0.2)\n",
        "# here currently we are not applying any transformation just normalizing the pixel values and splitting the data into validation dataset\n",
        "\n",
        "\n",
        "train_generator=data_generator.flow_from_directory(\n",
        "    train_dir,\n",
        "    target_size=(img_width,img_height),\n",
        "    batch_size=batch_size,\n",
        "    class_mode='categorical',\n",
        "    color_mode='grayscale',\n",
        "    subset='training')\n",
        "\n",
        "validation_generator=data_generator.flow_from_directory(\n",
        "    train_dir,\n",
        "    target_size=(img_width,img_height),\n",
        "    batch_size=batch_size,\n",
        "    class_mode='categorical',\n",
        "    color_mode='grayscale',\n",
        "    subset='validation')\n",
        "\n",
        "test_generator=data_generator.flow_from_directory(\n",
        "    test_dir,\n",
        "    target_size=(img_width,img_height),\n",
        "    batch_size=batch_size,\n",
        "    class_mode='categorical',\n",
        "    color_mode='grayscale')"
      ]
    },
    {
      "cell_type": "code",
      "execution_count": null,
      "metadata": {
        "id": "vBjoYWNtGxx_"
      },
      "outputs": [],
      "source": [
        "train_class_labels=train_generator.class_indices\n",
        "print(\"Training class labels: \",train_class_labels)"
      ]
    },
    {
      "cell_type": "code",
      "execution_count": null,
      "metadata": {
        "id": "BXh2v6eNGxx_"
      },
      "outputs": [],
      "source": [
        "# now at start we will try to build a basic cnn model to predict the class label\n"
      ]
    },
    {
      "cell_type": "code",
      "execution_count": null,
      "metadata": {
        "id": "-oU96Ec9Gxx_"
      },
      "outputs": [],
      "source": [
        "from tensorflow.keras.layers import Conv2D, MaxPooling2D, BatchNormalization, Dropout, Flatten, Dense, Activation, GlobalAveragePooling2D\n",
        "from tensorflow.keras.models import Sequential\n",
        "from tensorflow.keras.optimizers import Adam\n",
        "\n",
        "model=Sequential()\n",
        "model.add(Conv2D(32,kernel_size=(3,3),kernel_initializer=\"glorot_uniform\",\n",
        "          padding=\"same\",input_shape=(img_width,img_height,1)))\n",
        "model.add(Activation('relu'))\n",
        "model.add(Conv2D(64,kernel_size=(3,3),padding=\"same\"))\n",
        "model.add(Activation('relu'))\n",
        "model.add(BatchNormalization())\n",
        "model.add(MaxPooling2D(2,2))\n",
        "model.add(Dropout(0.25))\n",
        "\n",
        "model.add(Conv2D(128,kernel_size=(3,3),padding=\"same\"))\n",
        "model.add(Activation('relu'))\n",
        "model.add(Conv2D(256,kernel_size=(3,3),padding=\"same\"))\n",
        "model.add(Activation('relu'))\n",
        "model.add(BatchNormalization())\n",
        "model.add(MaxPooling2D(2,2))\n",
        "model.add(Dropout(0.25))\n",
        "\n",
        "model.add(Conv2D(512,kernel_size=(3,3),padding=\"same\"))\n",
        "model.add(Activation('relu'))\n",
        "model.add(Conv2D(512,kernel_size=(3,3),padding=\"same\"))\n",
        "model.add(Activation('relu'))\n",
        "model.add(BatchNormalization())\n",
        "model.add(MaxPooling2D(2,2))\n",
        "model.add(Dropout(0.25))\n",
        "\n",
        "# flattening and adding dense layers\n",
        "model.add(Flatten())\n",
        "model.add(Dense(1024))\n",
        "model.add(Activation('relu'))\n",
        "model.add(Dropout(0.5))\n",
        "\n",
        "# output layer\n",
        "model.add((Dense(num_classes)))\n",
        "model.add(Activation('softmax'))"
      ]
    },
    {
      "cell_type": "code",
      "execution_count": null,
      "metadata": {
        "id": "Ffm5t47LGxyA"
      },
      "outputs": [],
      "source": [
        "model.summary()"
      ]
    },
    {
      "cell_type": "code",
      "execution_count": null,
      "metadata": {
        "id": "xxBb-uVHGxyA"
      },
      "outputs": [],
      "source": [
        "# now we will use some callbacks\n",
        "\n",
        "from tensorflow.keras.callbacks import EarlyStopping,ReduceLROnPlateau,CSVLogger,ModelCheckpoint\n",
        "\n",
        "cnn_path = ''\n",
        "name=\"Basic_CNN_Model.keras\"\n",
        "chk_path=os.path.join(cnn_path,name)\n",
        "\n",
        "earlystop = EarlyStopping(monitor='val_accuracy',\n",
        "                          min_delta=0,\n",
        "                          patience=5,\n",
        "                          verbose=1,\n",
        "                          restore_best_weights=True)\n",
        "\n",
        "reduce_lr= ReduceLROnPlateau(monitor='val_loss',\n",
        "                             factor=0.2,\n",
        "                             patience=6,\n",
        "                             verbose=1,\n",
        "                             min_delta=0.0001)\n",
        "\n",
        "csv_logger = CSVLogger(os.path.join(cnn_path,'training.log'))\n",
        "\n",
        "model_checkpoint = ModelCheckpoint(chk_path,\n",
        "                                   monitor='val_accuracy',\n",
        "                                   save_best_only=True,\n",
        "                                   verbose=1)\n",
        "\n",
        "callbacks = [earlystop,reduce_lr,csv_logger,model_checkpoint]"
      ]
    },
    {
      "cell_type": "code",
      "execution_count": null,
      "metadata": {
        "id": "4YjYUsg2GxyA"
      },
      "outputs": [],
      "source": [
        "# train_steps_per_epoch = train_generator.samples//train_generator.batch_size + 1\n",
        "# validation_steps_per_epoch = validation_generator.samples//validation_generator.batch_size + 1\n",
        "# test_steps_per_epoch = test_generator.samples//test_generator.batch_size\n",
        "# print(train_generator.samples,train_generator.batch_size,train_steps_per_epoch)\n",
        "# print(validation_generator.samples,validation_generator.batch_size,validation_steps_per_epoch)\n",
        "# print(test_generator.samples,test_generator.batch_size,test_steps_per_epoch)"
      ]
    },
    {
      "cell_type": "code",
      "execution_count": null,
      "metadata": {
        "id": "ACJYpMiiGxyA"
      },
      "outputs": [],
      "source": [
        "model.compile(optimizer=Adam(learning_rate=0.0001),\n",
        "              loss='categorical_crossentropy',\n",
        "              metrics=['accuracy'])"
      ]
    },
    {
      "cell_type": "code",
      "execution_count": null,
      "metadata": {
        "id": "EYMIZoNyGxyA"
      },
      "outputs": [],
      "source": [
        "history= model.fit(train_generator,\n",
        "                   epochs=50,\n",
        "                   validation_data=validation_generator,\n",
        "                   callbacks=callbacks)"
      ]
    },
    {
      "cell_type": "code",
      "execution_count": null,
      "metadata": {
        "id": "8SjfHXRIGxyB"
      },
      "outputs": [],
      "source": [
        "def plot_training_history(history):\n",
        "    acc=history.history['accuracy']\n",
        "    val_acc=history.history['val_accuracy']\n",
        "    loss=history.history['loss']\n",
        "    val_loss=history.history['val_loss']\n",
        "\n",
        "    epochs_range = range(len(acc))\n",
        "    plt.figure(figsize=(20, 5))\n",
        "    plt.subplot(1,2,1)\n",
        "    plt.plot(epochs_range,acc,label='training Acuuracy')\n",
        "    plt.plot(epochs_range,val_acc,label='validation Acuuracy')\n",
        "    plt.legend(loc='lower right')\n",
        "    plt.title('Training and Validation Accuracy')\n",
        "\n",
        "    plt.subplot(1,2,2)\n",
        "    plt.plot(epochs_range,loss,label='training Loss')\n",
        "    plt.plot(epochs_range,val_loss,label='validation Loss')\n",
        "    plt.title('Training and Validation Loss')\n",
        "\n",
        "    plt.show()"
      ]
    },
    {
      "cell_type": "code",
      "execution_count": null,
      "metadata": {
        "id": "Z0XEcB-2GxyB"
      },
      "outputs": [],
      "source": [
        "plot_training_history(history)"
      ]
    },
    {
      "cell_type": "code",
      "execution_count": null,
      "metadata": {
        "id": "4BfWMlPFGxyB"
      },
      "outputs": [],
      "source": [
        "train_loss,train_accuracy =model.evaluate(train_generator)\n",
        "test_loss,test_accuracy =model.evaluate(test_generator)\n",
        "print(\"final train accuracy = {:.2f} , test accuracy = {:.2f}\".format(train_accuracy*100, test_accuracy*100))"
      ]
    },
    {
      "cell_type": "code",
      "execution_count": null,
      "metadata": {
        "id": "62896TzuGxyB"
      },
      "outputs": [],
      "source": [
        "from sklearn.metrics import confusion_matrix, classification_report, roc_curve, auc\n",
        "import seaborn as sns\n",
        "\n",
        "import numpy as np\n",
        "true_classes = test_generator.classes\n",
        "predicted_classes = np.argmax(model.predict(test_generator,steps=int(np.ceil(test_generator.samples/test_generator.batch_size))), axis=1)\n",
        "class_labels = list(test_generator.class_indices.keys())\n",
        "print(true_classes)\n",
        "print(predicted_classes)\n",
        "print(class_labels)\n",
        "\n",
        "# generate the cinfusion matrix\n",
        "cm = confusion_matrix(true_classes,predicted_classes)\n",
        "\n",
        "plt.figure(figsize=(10, 8))\n",
        "sns.heatmap(cm, annot=True, fmt=\"d\", cmap=\"Blues\", xticklabels=class_labels, yticklabels=class_labels)\n",
        "plt.title('Confusion Matrix')\n",
        "plt.ylabel('True label')\n",
        "plt.xlabel('Predicted label')\n",
        "plt.show()"
      ]
    },
    {
      "cell_type": "code",
      "execution_count": null,
      "metadata": {
        "id": "7_QsUuh7GxyB"
      },
      "outputs": [],
      "source": [
        "report=classification_report(true_classes,predicted_classes,target_names=class_labels)\n",
        "print(\"classification Report : \\n\",report)"
      ]
    },
    {
      "cell_type": "code",
      "execution_count": null,
      "metadata": {
        "id": "9bW9UpteGxyB"
      },
      "outputs": [],
      "source": [
        "# we can see that we are getting an accuracy of above 60 percent on test dataset but precision and recall\n",
        "# for all the classes is very low and we can see that from confusion matrix that it is wrongly classifying many data points"
      ]
    },
    {
      "cell_type": "code",
      "execution_count": null,
      "metadata": {
        "id": "Dht-kGH1GxyC"
      },
      "outputs": [],
      "source": [
        "from keras.utils import plot_model\n",
        "\n",
        "# making predictions for a random number of images\n",
        "batch_size=test_generator.batch_size\n",
        "print(batch_size)\n",
        "\n",
        "# the Random_batch is the number of batch we are choosing for printing test images\n",
        "Random_batch = np.random.randint(0,len(test_generator)-1)\n",
        "print(len(test_generator),Random_batch)\n",
        "\n",
        "# selecting 10 random imgaes indices\n",
        "Random_img_index = np.random.randint(0,batch_size,10)\n",
        "fig,axes = plt.subplots(nrows=2,ncols=5,figsize=(10,5),subplot_kw={'xticks': [], 'yticks': []})\n",
        "for i,ax in enumerate(axes.flat):\n",
        "    Random_img=test_generator[Random_batch][0][Random_img_index[i]]\n",
        "    Random_img_label=np.argmax(test_generator[Random_batch][1][Random_img_index[i]],axis=0)\n",
        "    Model_prediction=np.argmax(model.predict(tf.expand_dims(Random_img,axis=0),verbose=0),axis=1)[0]\n",
        "\n",
        "    ax.imshow(Random_img.squeeze(),cmap='gray')\n",
        "    color='green' if class_labels[Random_img_label] == class_labels[Model_prediction] else \"red\"\n",
        "    ax.set_title(f\"True: {class_labels[Random_img_label]}\\nPredicted: {class_labels[Model_prediction]}\", color=color)\n",
        "\n",
        "\n",
        "plt.show()"
      ]
    },
    {
      "cell_type": "code",
      "execution_count": null,
      "metadata": {
        "id": "Zo794croGxyC"
      },
      "outputs": [],
      "source": [
        "# as we can see through the graphs that our model is overfitting to the training data and hence we can use data transformation techniques\n",
        "# so that each time our model sees differently transformed version of the image and hence there can be a chance that it doesn't overfit"
      ]
    },
    {
      "cell_type": "markdown",
      "metadata": {
        "id": "Q6Vqnq9PGxyC"
      },
      "source": [
        "**Same CNN model with image augmentation**\n"
      ]
    },
    {
      "cell_type": "code",
      "execution_count": null,
      "metadata": {
        "id": "554sFSNQGxyD"
      },
      "outputs": [],
      "source": [
        "import tensorflow as tf\n",
        "from tensorflow.keras.preprocessing.image import ImageDataGenerator\n",
        "\n",
        "# it will apply random transformation to every image(if rescale parameter is given that will be applied to all images)\n",
        "data_generator=ImageDataGenerator(rescale=1./255,\n",
        "                                  rotation_range=40,\n",
        "                                  width_shift_range=0.2,\n",
        "                                  height_shift_range=0.2,\n",
        "                                  shear_range=0.2,\n",
        "                                  zoom_range=0.2,\n",
        "                                  horizontal_flip=True,\n",
        "                                  fill_mode='nearest',\n",
        "                                  validation_split=0.2)\n",
        "# here currently we are not applying any transformation just normalizing the pixel values and splitting the data into validation dataset\n",
        "\n",
        "\n",
        "train_generator=data_generator.flow_from_directory(\n",
        "    train_dir,\n",
        "    target_size=(img_width,img_height),\n",
        "    batch_size=batch_size,\n",
        "    class_mode='categorical',\n",
        "    color_mode='grayscale',\n",
        "    subset='training')\n",
        "\n",
        "validation_generator=data_generator.flow_from_directory(\n",
        "    train_dir,\n",
        "    target_size=(img_width,img_height),\n",
        "    batch_size=batch_size,\n",
        "    class_mode='categorical',\n",
        "    color_mode='grayscale',\n",
        "    subset='validation')\n",
        "\n",
        "test_generator=data_generator.flow_from_directory(\n",
        "    test_dir,\n",
        "    target_size=(img_width,img_height),\n",
        "    batch_size=batch_size,\n",
        "    class_mode='categorical',\n",
        "    color_mode='grayscale')"
      ]
    },
    {
      "cell_type": "code",
      "execution_count": null,
      "metadata": {
        "id": "CsrL2daRGxyD"
      },
      "outputs": [],
      "source": [
        "from tensorflow.keras.preprocessing.image import load_img, img_to_array\n",
        "image_path = 'C:\\Users\\91966\\Desktop\\Emotion_Detection\\test\\disgust\\PrivateTest_807646.jpg'\n",
        "img=load_img(image_path,color_mode='grayscale',target_size=(img_width,img_height))\n",
        "img_array=img_to_array(img)\n",
        "img_array=img_array.reshape((1,)+img_array.shape)\n",
        "\n",
        "fig,axes = plt.subplots(nrows=1,ncols=5,figsize=(10,4))\n",
        "\n",
        "axes[0].imshow(img_array[0,:,:,0],cmap='gray')\n",
        "axes[0].set_title('Original Image')\n",
        "axes[0].axis('off')\n",
        "\n",
        "for i,ax in enumerate(axes.flat[1:]):\n",
        "    aug_iter = data_generator.flow(img_array,batch_size=1)\n",
        "    aug_img = next(aug_iter)[0]\n",
        "    ax.imshow(aug_img[:,:,0],cmap='gray')\n",
        "    ax.set_title(f'Augmented Image {i+1}')\n",
        "    ax.axis('off')\n",
        "\n",
        "plt.tight_layout()\n",
        "plt.show()"
      ]
    },
    {
      "cell_type": "code",
      "execution_count": null,
      "metadata": {
        "id": "Wl0qL-vOGxyD"
      },
      "outputs": [],
      "source": [
        "# now we will use some callbacks\n",
        "\n",
        "from tensorflow.keras.callbacks import EarlyStopping,ReduceLROnPlateau\n",
        "\n",
        "cnn_path = ''\n",
        "name=\"Data_Augmentation.keras\"\n",
        "chk_path=os.path.join(cnn_path,name)\n",
        "\n",
        "earlystop = EarlyStopping(monitor='val_accuracy',\n",
        "                          min_delta=0,\n",
        "                          patience=5,\n",
        "                          verbose=1,\n",
        "                          restore_best_weights=True)\n",
        "\n",
        "reduce_lr= ReduceLROnPlateau(monitor='val_loss',\n",
        "                             factor=0.2,\n",
        "                             patience=6,\n",
        "                             verbose=1,\n",
        "                             min_delta=0.0001)\n",
        "\n",
        "csv_logger = CSVLogger(os.path.join(cnn_path,'training_with_Data_Augmentation2.log'))\n",
        "\n",
        "model_checkpoint = ModelCheckpoint(chk_path,\n",
        "                                   monitor='val_accuracy',\n",
        "                                   save_best_only=True,\n",
        "                                   verbose=1)\n",
        "\n",
        "callbacks = [earlystop,reduce_lr,csv_logger,model_checkpoint]"
      ]
    },
    {
      "cell_type": "code",
      "execution_count": null,
      "metadata": {
        "colab": {
          "base_uri": "https://localhost:8080/"
        },
        "id": "gRPQVUDYGxyE",
        "outputId": "e5734775-db84-4320-e69d-1c6890e13508"
      },
      "outputs": [],
      "source": [
        "# we can see that we are still not getting better recall and precision values\n",
        "# we can use the class weights metric to check whether we are getting better result with that or not\n",
        "\n",
        "from sklearn.utils.class_weight import compute_class_weight\n",
        "\n",
        "classes = np.array(train_generator.classes)\n",
        "class_weights = compute_class_weight(class_weight='balanced',\n",
        "                                     classes=np.unique(classes),\n",
        "                                     y=classes)\n",
        "\n",
        "class_weights_dict = dict(enumerate(class_weights))\n",
        "print(\"Class Weights Dictionary:\", class_weights_dict)"
      ]
    },
    {
      "cell_type": "code",
      "execution_count": null,
      "metadata": {
        "id": "OaeV3iJ0GxyE"
      },
      "outputs": [],
      "source": [
        "from tensorflow.keras.layers import Conv2D, MaxPooling2D, BatchNormalization, Dropout, Flatten, Dense, Activation, GlobalAveragePooling2D\n",
        "from tensorflow.keras.models import Sequential\n",
        "from tensorflow.keras.optimizers import Adam\n",
        "\n",
        "model=Sequential()\n",
        "model.add(Conv2D(32,kernel_size=(3,3),kernel_initializer=\"glorot_uniform\",\n",
        "          padding=\"same\",input_shape=(img_width,img_height,1)))\n",
        "model.add(Activation('relu'))\n",
        "model.add(Conv2D(64,kernel_size=(3,3),padding=\"same\"))\n",
        "model.add(Activation('relu'))\n",
        "model.add(BatchNormalization())\n",
        "model.add(MaxPooling2D(2,2))\n",
        "model.add(Dropout(0.25))\n",
        "\n",
        "model.add(Conv2D(128,kernel_size=(3,3),padding=\"same\"))\n",
        "model.add(Activation('relu'))\n",
        "model.add(Conv2D(256,kernel_size=(3,3),padding=\"same\"))\n",
        "model.add(Activation('relu'))\n",
        "model.add(BatchNormalization())\n",
        "model.add(MaxPooling2D(2,2))\n",
        "model.add(Dropout(0.25))\n",
        "\n",
        "model.add(Conv2D(512,kernel_size=(3,3),padding=\"same\"))\n",
        "model.add(Activation('relu'))\n",
        "model.add(Conv2D(512,kernel_size=(3,3),padding=\"same\"))\n",
        "model.add(Activation('relu'))\n",
        "model.add(BatchNormalization())\n",
        "model.add(MaxPooling2D(2,2))\n",
        "model.add(Dropout(0.25))\n",
        "\n",
        "# flattening and adding dense layers\n",
        "model.add(Flatten())\n",
        "model.add(Dense(1024))\n",
        "model.add(Activation('relu'))\n",
        "model.add(Dropout(0.5))\n",
        "\n",
        "# output layer\n",
        "model.add((Dense(num_classes)))\n",
        "model.add(Activation('softmax'))\n",
        "\n",
        "model.compile(optimizer=Adam(learning_rate=0.0001),\n",
        "              loss='categorical_crossentropy',\n",
        "              metrics=['accuracy'])\n",
        "\n",
        "history= model.fit(train_generator,\n",
        "                   epochs=50,\n",
        "                   validation_data=validation_generator,\n",
        "                   class_weight=class_weights_dict,\n",
        "                   callbacks=callbacks)"
      ]
    },
    {
      "cell_type": "code",
      "execution_count": null,
      "metadata": {
        "id": "dCWUqjesGxyE"
      },
      "outputs": [],
      "source": [
        "from tensorflow.keras.models import load_model\n",
        "\n",
        "# Load the model with the best weights\n",
        "best_model = load_model(chk_path)\n"
      ]
    },
    {
      "cell_type": "code",
      "execution_count": null,
      "metadata": {
        "id": "qRSB9TR4GxyE"
      },
      "outputs": [],
      "source": [
        "plot_training_history(history)"
      ]
    },
    {
      "cell_type": "code",
      "execution_count": null,
      "metadata": {
        "id": "oj5RLC5JGxyE"
      },
      "outputs": [],
      "source": [
        "train_loss, train_accu = best_model.evaluate(train_generator)\n",
        "test_loss, test_accu = best_model.evaluate(test_generator)\n",
        "print(\"final train accuracy = {:.2f} , validation accuracy = {:.2f}\".format(train_accu*100, test_accu*100))"
      ]
    },
    {
      "cell_type": "code",
      "execution_count": null,
      "metadata": {
        "id": "KGITMwxYGxyF"
      },
      "outputs": [],
      "source": [
        "# Assuming your true_classes and predicted_classes are already defined\n",
        "true_classes = test_generator.classes\n",
        "predicted_classes = np.argmax(best_model.predict(test_generator, steps=int(np.ceil(test_generator.samples/test_generator.batch_size))), axis=1)\n",
        "class_labels = list(test_generator.class_indices.keys())\n",
        "\n",
        "# Generate the confusion matrix\n",
        "cm = confusion_matrix(true_classes, predicted_classes)\n",
        "\n",
        "# Plotting with seaborn\n",
        "plt.figure(figsize=(10, 8))\n",
        "sns.heatmap(cm, annot=True, fmt=\"d\", cmap=\"Blues\", xticklabels=class_labels, yticklabels=class_labels)\n",
        "plt.title('Confusion Matrix')\n",
        "plt.ylabel('True label')\n",
        "plt.xlabel('Predicted label')\n",
        "plt.show()\n",
        "\n",
        "# Printing the classification report\n",
        "report = classification_report(true_classes,\n",
        "                               predicted_classes,\n",
        "                               target_names=class_labels,\n",
        "                               zero_division=0)\n",
        "print(\"Classification Report:\\n\", report)"
      ]
    },
    {
      "cell_type": "markdown",
      "metadata": {
        "id": "KfSI0i7JxyM7"
      },
      "source": [
        "**The Below Code is to actually add new images to the current dataset and make number of elements in all class equal.**"
      ]
    },
    {
      "cell_type": "code",
      "execution_count": null,
      "metadata": {
        "id": "TS1RFhRwGxyF"
      },
      "outputs": [],
      "source": [
        "# import shutil\n",
        "# from tensorflow.keras.preprocessing.image import save_img\n",
        "# from tensorflow.keras.preprocessing.image import load_img, img_to_array\n",
        "\n",
        "# dataset_dir='/kaggle/input/fer2013/train'\n",
        "# augmented_dataset_dir='/kaggle/working/'\n",
        "\n",
        "# datagen = ImageDataGenerator(\n",
        "#     rotation_range=20,\n",
        "#     width_shift_range=0.2,\n",
        "#     height_shift_range=0.2,\n",
        "#     shear_range=0.2,\n",
        "#     zoom_range=0.2,\n",
        "#     horizontal_flip=True,\n",
        "#     fill_mode='nearest'\n",
        "# )\n",
        "\n",
        "# class_counts={}\n",
        "# for class_name in os.listdir(dataset_dir):\n",
        "#     class_dir = os.path.join(dataset_dir,class_name)\n",
        "#     if os.path.isdir(class_dir):\n",
        "#         class_counts[class_name] = len(os.listdir(class_dir))\n",
        "# print(class_counts)\n",
        "# max_count=max(class_counts.values())\n",
        "\n",
        "# def augment_and_save_images(image_path,save_dir,augmentation_needed):\n",
        "#     img=load_img(image_path)\n",
        "#     x=img_to_array(img)\n",
        "#     x=np.expand_dims(x,axis=0)\n",
        "\n",
        "#     i=0\n",
        "#     for batch in datagen.flow(x,batch_size=1,save_to_dir=save_dir,save_prefix='aug',save_format='jpg'):\n",
        "#         i+=1\n",
        "#         if i>=augmentations_needed:\n",
        "#             break\n",
        "# print(max_count)\n",
        "# for class_name,count in class_counts.items():\n",
        "#     if count<max_count:\n",
        "#         class_dir=os.path.join(dataset_dir,class_name)\n",
        "#         print(class_dir)\n",
        "#         save_dir = os.path.join(augmented_dataset_dir,class_name)\n",
        "#         os.makedirs(save_dir,exist_ok=True)\n",
        "#         print(save_dir)\n",
        "#         augmentations_needed=max_count-count\n",
        "\n",
        "#         images = os.listdir(class_dir)\n",
        "#         augmentations_per_image = augmentations_needed // count\n",
        "#         remaining_augmentations = augmentations_needed % count\n",
        "#         print(augmentations_per_image,remaining_augmentations,count)\n",
        "#         for image_name in images:\n",
        "#             image_path = os.path.join(class_dir,image_name)\n",
        "#             print(image_path)\n",
        "#             augment_and_save_images(image_path,save_dir,augmentations_per_image)\n",
        "\n",
        "# #         selected_images = np.random.choice(images,remaining_augmentations,replace=False)\n",
        "# #         for image_name in selected_images:\n",
        "# #             image_path = os.path.join(class_dir,image_name)\n",
        "# #             augment_and_save_images(image_path,save_dir,1)\n",
        "\n",
        "# print(\"data Augmentaion complete.The dataset is balanced now.\")\n",
        "\n",
        "# # copying original images to the augmented directory\n",
        "# for class_name in os.listdir(original_dataset_dir):\n",
        "#     class_dir=os.path.join(dataset_dir,class_name)\n",
        "#     augmented_class_dir = os.path.join(augmented_dataset_dir,class_name)\n",
        "#     os.makedirs(augmented_class_dir,exist_ok=True)\n",
        "#     for filename in os.listdir(original_class_dir):\n",
        "#         src=os.path.join(original_class_dir, filename)\n",
        "#         dst= os.path.join(augmented_class_dir,filename)\n",
        "#         shutil.copyfile(src,dst)\n",
        "\n",
        "# print(\"Original images copied to augmented directory successfully.\")\n"
      ]
    },
    {
      "cell_type": "code",
      "execution_count": null,
      "metadata": {
        "id": "wthEU8HlGxyF"
      },
      "outputs": [],
      "source": [
        "# we can still see that the model acuracy didn't increase much so we can try with actually augmenting\n",
        "# the minority class images so that all classes have equal number of images and wwe will be using the same cnn model"
      ]
    },
    {
      "cell_type": "code",
      "execution_count": null,
      "metadata": {
        "colab": {
          "base_uri": "https://localhost:8080/"
        },
        "id": "61tmQLNRGxyF",
        "outputId": "1a75aede-5ad2-4c5c-d23a-b9ac79ad0046"
      },
      "outputs": [],
      "source": [
        "img_width, img_height = 224, 224  # Size of images\n",
        "batch_size = 64\n",
        "epochs = 10\n",
        "num_classes = 7\n",
        "\n",
        "import tensorflow as tf\n",
        "from tensorflow.keras.preprocessing.image import ImageDataGenerator\n",
        "\n",
        "# it will apply random transformation to every image(if rescale parameter is given that will be applied to all images)\n",
        "data_generator=ImageDataGenerator(rescale=1./255,\n",
        "                                 validation_split=0.2)\n",
        "# here currently we are not applying any transformation just normalizing the pixel values and splitting the data into validation dataset\n",
        "\n",
        "\n",
        "train_generator=data_generator.flow_from_directory(\n",
        "    train_dir,\n",
        "    target_size=(img_width,img_height),\n",
        "    batch_size=batch_size,\n",
        "    class_mode='categorical',\n",
        "    color_mode='rgb',\n",
        "    subset='training')\n",
        "\n",
        "validation_generator=data_generator.flow_from_directory(\n",
        "    train_dir,\n",
        "    target_size=(img_width,img_height),\n",
        "    batch_size=batch_size,\n",
        "    class_mode='categorical',\n",
        "    color_mode='rgb',\n",
        "    subset='validation')\n",
        "\n",
        "test_generator=data_generator.flow_from_directory(\n",
        "    test_dir,\n",
        "    target_size=(img_width,img_height),\n",
        "    batch_size=batch_size,\n",
        "    class_mode='categorical',\n",
        "    color_mode='rgb')"
      ]
    },
    {
      "cell_type": "code",
      "execution_count": null,
      "metadata": {
        "colab": {
          "base_uri": "https://localhost:8080/"
        },
        "id": "tA9xUJFJHQZB",
        "outputId": "df1947e3-64d1-4c96-8d05-95d66a25b830"
      },
      "outputs": [],
      "source": [
        "import tensorflow as tf\n",
        "from tensorflow.keras.applications import VGG16, ResNet50V2\n",
        "from tensorflow.keras.layers import Conv2D, MaxPooling2D, BatchNormalization, Dropout, Flatten, Dense, Activation, GlobalAveragePooling2D\n",
        "\n",
        "tf.keras.backend.clear_session()\n",
        "\n",
        "# load the vgg16 model, excluding the fully connected layers\n",
        "vgg = VGG16(input_shape=(224,224,3),include_top=False,weights='imagenet')\n",
        "vgg.summary()"
      ]
    },
    {
      "cell_type": "code",
      "execution_count": null,
      "metadata": {
        "colab": {
          "base_uri": "https://localhost:8080/"
        },
        "id": "Yn7URkhtHmOM",
        "outputId": "3fb04d79-0cef-4752-fec7-f27f24933e24"
      },
      "outputs": [],
      "source": [
        "for layer in vgg.layers[:-3]:\n",
        "  layer.trainable = False\n",
        "vgg.summary()"
      ]
    },
    {
      "cell_type": "code",
      "execution_count": null,
      "metadata": {
        "colab": {
          "base_uri": "https://localhost:8080/"
        },
        "id": "ztbILBhwIp2y",
        "outputId": "13f0cbed-a44a-40d2-9312-0f5c5d06ccdd"
      },
      "outputs": [],
      "source": [
        "from tensorflow.keras.models import Sequential, Model\n",
        "\n",
        "x=Flatten()(vgg.output)\n",
        "\n",
        "x=Dense(1024,activation='relu',kernel_initializer='he_normal')(x)\n",
        "x=Dropout(0.5)(x)\n",
        "\n",
        "x=Dense(512,activation='relu',kernel_initializer='he_normal')(x)\n",
        "x=Dropout(0.5)(x)\n",
        "\n",
        "output = Dense(7,activation='softmax',kernel_initializer='he_normal')(x)\n",
        "\n",
        "model=Model(inputs=vgg.input,outputs=output)\n",
        "\n",
        "model.compile(loss='categorical_crossentropy',\n",
        "              optimizer=tf.keras.optimizers.Adam(learning_rate=0.0001, beta_1=0.9, beta_2=0.999, amsgrad=False),\n",
        "              metrics=['accuracy'])\n",
        "\n",
        "model.summary()"
      ]
    },
    {
      "cell_type": "code",
      "execution_count": null,
      "metadata": {
        "id": "fbgjBOPGJ8AU"
      },
      "outputs": [],
      "source": [
        "# now we will use some callbacks\n",
        "\n",
        "from tensorflow.keras.callbacks import EarlyStopping,ReduceLROnPlateau,CSVLogger,ModelCheckpoint\n",
        "\n",
        "cnn_path = ''\n",
        "name=\"VGG16_Transfer_Learning.keras\"\n",
        "chk_path=os.path.join(cnn_path,name)\n",
        "\n",
        "earlystop = EarlyStopping(monitor='val_accuracy',\n",
        "                          min_delta=0,\n",
        "                          patience=5,\n",
        "                          verbose=1,\n",
        "                          restore_best_weights=True)\n",
        "\n",
        "reduce_lr= ReduceLROnPlateau(monitor='val_loss',\n",
        "                             factor=0.2,\n",
        "                             patience=6,\n",
        "                             verbose=1,\n",
        "                             min_delta=0.0001)\n",
        "\n",
        "csv_logger = CSVLogger(os.path.join(cnn_path,'training_with_vggNet.log'))\n",
        "\n",
        "model_checkpoint = ModelCheckpoint(chk_path,\n",
        "                                   monitor='val_accuracy',\n",
        "                                   save_best_only=True,\n",
        "                                   verbose=1)\n",
        "\n",
        "callbacks = [earlystop,reduce_lr,csv_logger,model_checkpoint]"
      ]
    },
    {
      "cell_type": "code",
      "execution_count": null,
      "metadata": {
        "colab": {
          "base_uri": "https://localhost:8080/"
        },
        "id": "dQhLcRJJKsfL",
        "outputId": "f2aeb4f8-326c-4b9f-fd11-ae03ef35ce50"
      },
      "outputs": [],
      "source": [
        "history = model.fit(\n",
        "                    train_generator,\n",
        "                    epochs=50,\n",
        "                    validation_data=validation_generator,\n",
        "                    class_weight=class_weights_dict,\n",
        "                    callbacks = callbacks\n",
        "                    )"
      ]
    },
    {
      "cell_type": "code",
      "execution_count": null,
      "metadata": {
        "colab": {
          "base_uri": "https://localhost:8080/",
          "height": 343
        },
        "id": "U9kzO7Y6MvH6",
        "outputId": "04f13f5e-0151-421c-9504-d5fe353f592f"
      },
      "outputs": [],
      "source": [
        "plot_training_history(history)\n",
        "\n",
        "train_loss, train_accu = model.evaluate(train_generator)\n",
        "test_loss, test_accu = model.evaluate(test_generator)\n",
        "print(\"final train accuracy = {:.2f} , validation accuracy = {:.2f}\".format(train_accu*100, test_accu*100))"
      ]
    },
    {
      "cell_type": "code",
      "execution_count": null,
      "metadata": {
        "colab": {
          "base_uri": "https://localhost:8080/",
          "height": 787
        },
        "id": "0tTKgeI5MyYL",
        "outputId": "949bdc0a-b92a-4208-d538-389a5d4251c2"
      },
      "outputs": [],
      "source": [
        "from sklearn.metrics import confusion_matrix, classification_report, roc_curve, auc\n",
        "import seaborn as sns\n",
        "\n",
        "import numpy as np\n",
        "true_classes = test_generator.classes\n",
        "predicted_classes = np.argmax(model.predict(test_generator,steps=int(np.ceil(test_generator.samples/test_generator.batch_size))), axis=1)\n",
        "class_labels = list(test_generator.class_indices.keys())\n",
        "print(true_classes)\n",
        "print(predicted_classes)\n",
        "print(class_labels)\n",
        "\n",
        "# generate the cinfusion matrix\n",
        "cm = confusion_matrix(true_classes,predicted_classes)\n",
        "\n",
        "plt.figure(figsize=(10, 8))\n",
        "sns.heatmap(cm, annot=True, fmt=\"d\", cmap=\"Blues\", xticklabels=class_labels, yticklabels=class_labels)\n",
        "plt.title('Confusion Matrix')\n",
        "plt.ylabel('True label')\n",
        "plt.xlabel('Predicted label')\n",
        "plt.show()"
      ]
    },
    {
      "cell_type": "code",
      "execution_count": null,
      "metadata": {
        "colab": {
          "base_uri": "https://localhost:8080/"
        },
        "id": "5AcyzbjNNF_h",
        "outputId": "051511b9-4aa3-4b3a-f568-d8c2418a48d1"
      },
      "outputs": [],
      "source": [
        "# Printing the classification report\n",
        "report = classification_report(true_classes,\n",
        "                               predicted_classes,\n",
        "                               target_names=class_labels,\n",
        "                               zero_division=0)\n",
        "print(\"Classification Report:\\n\", report)"
      ]
    },
    {
      "cell_type": "code",
      "execution_count": null,
      "metadata": {
        "id": "knwxhkalLfSh"
      },
      "outputs": [],
      "source": [
        "# still precision and recall didn't increase significantly"
      ]
    },
    {
      "cell_type": "markdown",
      "metadata": {
        "id": "PWyyXnWjLFcg"
      },
      "source": [
        "**RESNet 50**"
      ]
    },
    {
      "cell_type": "code",
      "execution_count": null,
      "metadata": {
        "colab": {
          "base_uri": "https://localhost:8080/"
        },
        "id": "au_e2CUhLOL0",
        "outputId": "97479e58-d5d4-4e01-c2bb-17ae0e0ab701"
      },
      "outputs": [],
      "source": [
        "import tensorflow as tf\n",
        "from tensorflow.keras.preprocessing.image import ImageDataGenerator\n",
        "\n",
        "train_datagen = ImageDataGenerator(rescale = 1/255,\n",
        "                                   rotation_range=10,\n",
        "                                   zoom_range=0.2,\n",
        "                                   width_shift_range=0.1,\n",
        "                                   height_shift_range=0.1,\n",
        "                                   horizontal_flip=True,\n",
        "                                   fill_mode='nearest'\n",
        ")\n",
        "\n",
        "test_datagen = ImageDataGenerator(rescale=1/255)\n",
        "\n",
        "train_generator = train_datagen.flow_from_directory(train_dir,\n",
        "                                                    class_mode='categorical',\n",
        "                                                    target_size=(224,224),\n",
        "                                                    color_mode='rgb',\n",
        "                                                    shuffle=True,\n",
        "                                                    batch_size=batch_size\n",
        ")\n",
        "\n",
        "test_generator = test_datagen.flow_from_directory(\n",
        "                                                  test_dir,\n",
        "                                                  class_mode=\"categorical\",\n",
        "                                                  target_size=(224, 224),\n",
        "                                                  color_mode=\"rgb\",\n",
        "                                                  shuffle=False,\n",
        "                                                  batch_size=batch_size\n",
        "                                                 )"
      ]
    },
    {
      "cell_type": "code",
      "execution_count": null,
      "metadata": {
        "colab": {
          "base_uri": "https://localhost:8080/"
        },
        "id": "r6MLekNFPbVb",
        "outputId": "dc460fb7-74a7-469f-c235-3a58b00520fd"
      },
      "outputs": [],
      "source": [
        "ResNet50V2 = tf.keras.applications.ResNet50V2(input_shape=(224,224,3),\n",
        "                                              include_top=False,\n",
        "                                              weights='imagenet')"
      ]
    },
    {
      "cell_type": "code",
      "execution_count": null,
      "metadata": {
        "colab": {
          "base_uri": "https://localhost:8080/"
        },
        "id": "jGNgTDrcReLc",
        "outputId": "6bff5846-13a1-4abf-9763-7cc1e371fa79"
      },
      "outputs": [],
      "source": [
        "from tensorflow.keras.layers import Conv2D, MaxPooling2D, BatchNormalization, Dropout, Flatten, Dense, Activation, GlobalAveragePooling2D\n",
        "from tensorflow.keras.models import Sequential\n",
        "from tensorflow.keras.optimizers import Adam\n",
        "\n",
        "model=Sequential([ResNet50V2,\n",
        "                  Dropout(0.25),\n",
        "                  BatchNormalization(),\n",
        "                  Flatten(),\n",
        "                  Dense(64,activation='relu'),\n",
        "                  BatchNormalization(),\n",
        "                  Dropout(0.5),\n",
        "                  Dense(7,activation='softmax')\n",
        "])\n",
        "model.summary()"
      ]
    },
    {
      "cell_type": "code",
      "execution_count": null,
      "metadata": {
        "id": "czu7HH4eR-pF"
      },
      "outputs": [],
      "source": [
        "model.compile(optimizer='adam', loss='categorical_crossentropy', metrics=['accuracy'])"
      ]
    },
    {
      "cell_type": "code",
      "execution_count": null,
      "metadata": {
        "id": "MqdOhf7iSIkf"
      },
      "outputs": [],
      "source": [
        "\n",
        "from tensorflow.keras.callbacks import EarlyStopping,ReduceLROnPlateau,CSVLogger,ModelCheckpoint\n",
        "\n",
        "cnn_path = ''\n",
        "name='ResNet50_Transfer_Learning.keras'\n",
        "chk_path=os.path.join(cnn_path,name)\n",
        "\n",
        "checkpoint =ModelCheckpoint(filepath=chk_path,\n",
        "                            save_best_only=True,\n",
        "                            verbose=1,\n",
        "                            mode='min',\n",
        "                            monitor='val_loss'\n",
        ")\n",
        "\n",
        "earlystop = EarlyStopping(monitor='val_accuracy',\n",
        "                          patience=7,\n",
        "                          restore_best_weights=True,\n",
        "                          verbose=1)\n",
        "\n",
        "reduce_lr = ReduceLROnPlateau(monnitor='val_loss',\n",
        "                              factor=0.2,\n",
        "                              patience=2,\n",
        "                              verbose=1)\n",
        "\n",
        "csv_logger = CSVLogger(os.path.join(cnn_path,'training.log'))\n",
        "\n",
        "callbacks = [checkpoint, earlystop, reduce_lr,csv_logger]"
      ]
    },
    {
      "cell_type": "code",
      "execution_count": null,
      "metadata": {
        "colab": {
          "base_uri": "https://localhost:8080/",
          "height": 391
        },
        "id": "m5haJaPLT0Za",
        "outputId": "8f46d830-9aa6-4354-cb17-ac05979077a9"
      },
      "outputs": [],
      "source": [
        "train_history = model.fit(train_generator,\n",
        "                          epochs=50,\n",
        "                          validation_data=test_generator,\n",
        "                          class_weight=class_weights_dict,\n",
        "                          callbacks=callbacks)"
      ]
    },
    {
      "cell_type": "markdown",
      "metadata": {
        "id": "eBxTqMVY72AT"
      },
      "source": []
    },
    {
      "cell_type": "code",
      "execution_count": null,
      "metadata": {
        "id": "y45YoVp0UkA6"
      },
      "outputs": [],
      "source": [
        "plot_training_history(train_history)"
      ]
    },
    {
      "cell_type": "code",
      "execution_count": null,
      "metadata": {
        "id": "MQrk9DWrUzmr"
      },
      "outputs": [],
      "source": [
        "train_loss, train_accu = model.evaluate(train_generator)\n",
        "test_loss, test_accu = model.evaluate(test_generator)\n",
        "print(\"final train accuracy = {:.2f} , validation accuracy = {:.2f}\".format(train_accu*100, test_accu*100))"
      ]
    },
    {
      "cell_type": "code",
      "execution_count": null,
      "metadata": {
        "id": "e33rT7aWV7jw"
      },
      "outputs": [],
      "source": [
        "true_classes=test_generator.classes\n",
        "predicted_classes=np.argmax(model.predict(test_generator,steps=int(np.ceil\n",
        "                            (test_generator.samples/test_generator.batch_size))),axis=1)\n",
        "class_labels=list(test_generator.class_indices.keys())\n",
        "\n",
        "cm=confusion_matrix(true_classes,predicted_classes)\n",
        "\n",
        "plt.figure(figsize=(10,8))\n",
        "sns.heatmap(cm, annot=True, fmt=\"d\", cmap=\"Blues\", xticklabels=class_labels, yticklabels=class_labels)\n",
        "plt.title('Confusion Matrix')\n",
        "plt.ylabel('True label')\n",
        "plt.xlabel('Predicted label')\n",
        "plt.show()"
      ]
    },
    {
      "cell_type": "code",
      "execution_count": null,
      "metadata": {
        "id": "pFjAM8mOWv6I"
      },
      "outputs": [],
      "source": [
        "report = classification_report(true_classes,\n",
        "                               predicted_classes,\n",
        "                               target_names=class_labels,\n",
        "                               zero_division=0)\n",
        "print(\"Classification Report:\\n\", report)"
      ]
    },
    {
      "cell_type": "markdown",
      "metadata": {
        "id": "hBWaO3m2XJq8"
      },
      "source": [
        "**AUC-ROC Curve**"
      ]
    },
    {
      "cell_type": "code",
      "execution_count": null,
      "metadata": {
        "id": "rMPsJNQJXRQR"
      },
      "outputs": [],
      "source": [
        "y_encoded = pd.get_dummies(true_classes).astype(int).values\n",
        "preds_encoded = pd.get_dummies(predicted_classes).astype(int).values\n",
        "\n",
        "fpr=dict()\n",
        "tpr=dict()\n",
        "roc_auc=dict()\n",
        "for i in range(7):\n",
        "  fpr[i],tpr[i],_=roc_curve(y_encoded[:i],preds_encoded[:,i])\n",
        "  roc_auc[i]=auc(fpr[i],tpr[i])\n",
        "\n",
        "plt.figure(figsize=(10,5))\n",
        "colors = ['#1f77b4', '#ff7f0e', '#2ca02c', '#d62728', '#9467bd', '#8c564b', '#e377c2']\n",
        "for i, color in enumerate(colors):\n",
        "    plt.plot(fpr[i], tpr[i], color=color, lw=2, label=f\"ROC curve for {classes[i]} (area = {roc_auc[i]:0.2f})\")\n",
        "\n",
        "plt.plot([0, 1], [0, 1], 'k--', lw=2)\n",
        "plt.xlim([0, 1])\n",
        "plt.ylim([0, 1])\n",
        "plt.xlabel('False Positive Rate')\n",
        "plt.ylabel('True Positive Rate')\n",
        "plt.title('ROC Curve')\n",
        "plt.legend(loc='lower right')"
      ]
    },
    {
      "cell_type": "code",
      "execution_count": null,
      "metadata": {
        "id": "_H0w6_XRZ0s7"
      },
      "outputs": [],
      "source": [
        "model.save(\"Resnet_model_version_2.keras\")"
      ]
    }
  ],
  "metadata": {
    "colab": {
      "provenance": []
    },
    "kaggle": {
      "accelerator": "tpu1vmV38",
      "dataSources": [
        {
          "datasetId": 786787,
          "sourceId": 1351797,
          "sourceType": "datasetVersion"
        }
      ],
      "dockerImageVersionId": 30698,
      "isGpuEnabled": false,
      "isInternetEnabled": true,
      "language": "python",
      "sourceType": "notebook"
    },
    "kernelspec": {
      "display_name": "Python 3",
      "name": "python3"
    },
    "language_info": {
      "codemirror_mode": {
        "name": "ipython",
        "version": 3
      },
      "file_extension": ".py",
      "mimetype": "text/x-python",
      "name": "python",
      "nbconvert_exporter": "python",
      "pygments_lexer": "ipython3",
      "version": "3.12.4"
    }
  },
  "nbformat": 4,
  "nbformat_minor": 0
}
